{
 "cells": [
  {
   "cell_type": "code",
   "execution_count": 7,
   "metadata": {},
   "outputs": [],
   "source": [
    "import numpy as np\n",
    "import matplotlib.pyplot as plt"
   ]
  },
  {
   "cell_type": "code",
   "execution_count": 8,
   "metadata": {},
   "outputs": [],
   "source": [
    "class house:\n",
    "    def __init__(self, dimensions, step, border_indexes):\n",
    "        self.dimensions = dimensions\n",
    "        self.step = step\n",
    "        self.border_indexes = border_indexes\n",
    "        self.matrix = np.zeros(dimensions)\n",
    "        self.rooms = []\n",
    "        for number, room in self.border_indexes.items():\n",
    "            self.matrix[min(list(zip(*room))[0]):max(list(zip(*room))[0]), min(list(zip(*room))[1]):max(list(zip(*room))[1])] = number \n",
    "            self.rooms.append(self.matrix[min(list(zip(*room))[0]):max(list(zip(*room))[0]), min(list(zip(*room))[1]):max(list(zip(*room))[1])])\n",
    "    def welcome(self):\n",
    "        plt.imshow(self.matrix)\n",
    "    def show_rooms(self):\n",
    "        return self.rooms\n",
    "    def show_map(self):\n",
    "        tmp = self.matrix.copy()\n",
    "        tmp[self.matrix != 0] = 1\n",
    "        plt.imshow(tmp)"
   ]
  },
  {
   "cell_type": "code",
   "execution_count": 9,
   "metadata": {},
   "outputs": [
    {
     "data": {
      "image/png": "[encoded data removed]",
      "text/plain": [
       "<Figure size 640x480 with 1 Axes>"
      ]
     },
     "metadata": {},
     "output_type": "display_data"
    }
   ],
   "source": [
    "borders = {\n",
    "    1 : [(0, 0), (0,50), (30,50), (30,0)], \n",
    "    2 : [(30, 0), (30,50), (60,50), (60,0)],\n",
    "    3 : [(60, 0), (60,50), (100,50), (100,0)],\n",
    "    4 : [(0, 50), (0,60), (100,60), (100,50)],\n",
    "    5 : [(0, 60), (0,100), (45,100), (45,60)],\n",
    "}\n",
    "a = house((100,100), 1, borders)\n",
    "a.welcome()"
   ]
  }
 ],
 "metadata": {
  "kernelspec": {
   "display_name": "Python 3",
   "language": "python",
   "name": "python3"
  },
  "language_info": {
   "codemirror_mode": {
    "name": "ipython",
    "version": 3
   },
   "file_extension": ".py",
   "mimetype": "text/x-python",
   "name": "python",
   "nbconvert_exporter": "python",
   "pygments_lexer": "ipython3",
   "version": "3.9.13"
  }
 },
 "nbformat": 4,
 "nbformat_minor": 2
}
